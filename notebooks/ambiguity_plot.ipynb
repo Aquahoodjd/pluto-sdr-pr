{
 "metadata": {
  "language_info": {
   "codemirror_mode": {
    "name": "ipython",
    "version": 3
   },
   "file_extension": ".py",
   "mimetype": "text/x-python",
   "name": "python",
   "nbconvert_exporter": "python",
   "pygments_lexer": "ipython3",
   "version": "3.9.1"
  },
  "orig_nbformat": 2,
  "kernelspec": {
   "name": "python391jvsc74a57bd06383b12904df1db452819095e6888855fcb9fa309ab0a695d13557ede0217376",
   "display_name": "Python 3.9.1 64-bit"
  },
  "metadata": {
   "interpreter": {
    "hash": "4cd7ab41f5fca4b9b44701077e38c5ffd31fe66a6cab21e0214b68d958d0e462"
   }
  }
 },
 "nbformat": 4,
 "nbformat_minor": 2,
 "cells": [
  {
   "cell_type": "code",
   "execution_count": null,
   "metadata": {},
   "outputs": [],
   "source": [
    "import numpy as np\n",
    "import matplotlib.cm\n",
    "import matplotlib.pyplot as plt\n",
    "\n",
    "import sys\n",
    "sys.path.append('../')\n",
    "import rtl_sdr_pr"
   ]
  },
  {
   "cell_type": "code",
   "execution_count": null,
   "metadata": {},
   "outputs": [],
   "source": [
    "%%time\n",
    "\n",
    "c = 3e8\n",
    "cpi = 0.1 # in seconds\n",
    "Fs = 2.88e6\n",
    "fc = 625e6\n",
    "num_samples = int(cpi * Fs)\n",
    "\n",
    "with open('../data/gqrx_20210326_161137_625000000_2880000_fc_flugplatz_longdipole.raw', 'rb') as fid:\n",
    "    n = rtl_sdr_pr.ioutils.read_samples(fid, num_samples)\n",
    "\n",
    "step_distance = int(50e3)\n",
    "num_iter = 1\n",
    "step_samples = int(step_distance / c * Fs)\n",
    "max_doppler = 55\n",
    "amb = np.empty((step_samples + 1, max_doppler, num_iter + 1), dtype=np.complex64)\n",
    "\n",
    "for idx_win in range(num_iter):\n",
    "    delay_bins = range(idx_win * step_samples, (idx_win + 1) * step_samples + 1)\n",
    "    doppler_bins = np.linspace(0, max_doppler - 1, max_doppler)\n",
    "    amb = rtl_sdr_pr.processing.direct_ambiguity(delay_bins, doppler_bins, n, n, Fs)"
   ]
  },
  {
   "cell_type": "code",
   "execution_count": null,
   "metadata": {},
   "outputs": [],
   "source": [
    "fig = plt.figure(figsize=(20, 5))\n",
    "ax1 = fig.add_subplot(111)\n",
    "ax1.set_xlabel(\"bistatic range [km]\")\n",
    "ax1.set_ylabel(\"correlation [dB]\")\n",
    "ax1_xticks = np.linspace(0, num_iter * step_distance / 1000, 22)\n",
    "ax1.set_xticks(ax1_xticks)\n",
    "ax1.plot(np.fromiter(delay_bins, dtype=float) / Fs * c / 1000, 10 * np.log10(np.abs(amb)))\n",
    "\n",
    "\n",
    "ax2 = ax1.twiny()\n",
    "ax2_xticks = np.linspace(0, num_iter * step_distance / 1000, 22)\n",
    "ax2.set_xticks(ax2_xticks)\n",
    "ax2.set_xticklabels(map(lambda tick: f\"{(tick * 1e9) / 3e8:.0f}\", ax2_xticks))\n",
    "ax2.set_xlim(ax1.get_xlim())\n",
    "ax2.set_xlabel(\"time [µsec]\")\n",
    "plt.title(f\"Correlation of {cpi}sec CPI, Doppler: {doppler_bins}\", pad=40);\n",
    "\n",
    "ax1.grid()\n",
    "plt.grid(axis='x', alpha=0.5, linestyle='--')\n",
    "\n",
    "X, Y = np.meshgrid(np.arange(len(delay_bins)), np.arange(len(doppler_bins)))\n",
    "Z = 10 * np.log10(np.abs(amb))[X, Y]\n",
    "\n",
    "fig, ax = plt.subplots(subplot_kw={\"projection\": \"3d\"}, figsize=(10, 10))\n",
    "ax.plot_surface(X, Y, Z, cmap=matplotlib.cm.Spectral);"
   ]
  },
  {
   "cell_type": "code",
   "execution_count": null,
   "metadata": {},
   "outputs": [],
   "source": []
  }
 ]
}
