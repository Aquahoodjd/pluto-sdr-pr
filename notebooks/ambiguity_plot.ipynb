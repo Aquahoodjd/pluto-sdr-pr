{
 "cells": [
  {
   "cell_type": "markdown",
   "metadata": {},
   "source": [
    "# Ambiguity Plot\n",
    "\n",
    "Goal of this notebook is to quickly visualize the results of the CAF (Cross Ambiguity Function).\n",
    "\n",
    "## Setup\n",
    "\n",
    "First, run some imports of common modules. Also note the import of `pluto_sdr_pr` from this repository. "
   ]
  },
  {
   "cell_type": "code",
   "execution_count": null,
   "metadata": {},
   "outputs": [],
   "source": [
    "%matplotlib widget\n",
    "\n",
    "import numpy as np\n",
    "\n",
    "import matplotlib.cm\n",
    "import matplotlib.pyplot as plt\n",
    "from matplotlib import animation\n",
    "\n",
    "import sys\n",
    "sys.path.append('../')\n",
    "import pluto_sdr_pr.ioutils\n",
    "import pluto_sdr_pr.processing"
   ]
  },
  {
   "cell_type": "markdown",
   "metadata": {},
   "source": [
    "## Define Constants\n",
    "\n",
    "Define some common constants for subsequent use."
   ]
  },
  {
   "cell_type": "code",
   "execution_count": null,
   "metadata": {},
   "outputs": [],
   "source": [
    "c = 3e8 # in m/s\n",
    "cpi = 0.1 # in seconds\n",
    "Fs = 2.88e6 # in Hz\n",
    "fc = 625e6 # in Hz"
   ]
  },
  {
   "cell_type": "markdown",
   "metadata": {},
   "source": [
    "## Read Samples\n",
    "\n",
    "Read a few samples from IQ recording. The recording is too big to include it in this repository. Thus the file has to be sourced some other way."
   ]
  },
  {
   "cell_type": "code",
   "execution_count": null,
   "metadata": {},
   "outputs": [],
   "source": [
    "num_samples = int(cpi * Fs)\n",
    "with open('../data/pluto_b_surv.2021-07-27T15_24_21_819.sdriq', 'rb') as fid:\n",
    "    n, _ = pluto_sdr_pr.ioutils.read_sdriq_samples(fid, num_samples)"
   ]
  },
  {
   "cell_type": "markdown",
   "metadata": {},
   "source": [
    "## Calculate Ambiguity\n",
    "\n",
    "Calculate blind ambiguity of recorded signal with itself. Due to RAM constraints of the current `direct_ambiguity` implementation, processing has to be performed in chunks of `step_size`."
   ]
  },
  {
   "cell_type": "code",
   "execution_count": null,
   "metadata": {},
   "outputs": [],
   "source": [
    "max_distance = int(50e3)\n",
    "max_delay = int(max_distance / c * Fs)\n",
    "max_speed = 280 # m/s\n",
    "max_doppler = int(max_speed * cpi * fc / c)\n",
    "\n",
    "%time amb = pluto_sdr_pr.processing.fast_ambiguity(max_delay, 2 * max_doppler + 1, n, n)"
   ]
  },
  {
   "cell_type": "markdown",
   "metadata": {},
   "source": [
    "## 2d Line Plot\n",
    "\n",
    "Plot result of blind correlation on 2d line plot. The lines for each doppler bin are layered ontop each other."
   ]
  },
  {
   "cell_type": "code",
   "execution_count": null,
   "metadata": {},
   "outputs": [],
   "source": [
    "fig = plt.figure(figsize=(20, 5))\n",
    "ax1 = fig.add_subplot(111)\n",
    "ax1.set_xlabel(\"bistatic range [km]\")\n",
    "ax1.set_ylabel(\"correlation [dB]\")\n",
    "ax1_xticks = np.linspace(0, max_distance / 1000, 22)\n",
    "ax1.set_xticks(ax1_xticks)\n",
    "ax1.plot(np.arange(max_delay) / Fs * c / 1000, 10 * np.log10(np.abs(amb)))\n",
    "\n",
    "ax2 = ax1.twiny()\n",
    "ax2_xticks = np.linspace(0, max_distance / 1000, 22)\n",
    "ax2.set_xticks(ax2_xticks)\n",
    "ax2.set_xticklabels(map(lambda tick: f\"{(tick * 1e9) / 3e8:.0f}\", ax2_xticks))\n",
    "ax2.set_xlim(ax1.get_xlim())\n",
    "ax2.set_xlabel(\"time [µsec]\")\n",
    "plt.title(f\"Correlation of {cpi}sec CPI, Doppler: {1}\", pad=40);\n",
    "\n",
    "ax1.grid()\n",
    "plt.grid(axis='x', alpha=0.5, linestyle='--')\n"
   ]
  },
  {
   "cell_type": "markdown",
   "metadata": {},
   "source": [
    "## 3d Surface Plot\n",
    "\n",
    "Plot as 3d surface plot, with bistatic range, bistatic velocity and calculated correlation as the three axis."
   ]
  },
  {
   "cell_type": "code",
   "execution_count": null,
   "metadata": {},
   "outputs": [],
   "source": [
    "X, Y = np.meshgrid(np.arange(amb.shape[0]), np.arange(amb.shape[1]))\n",
    "Z = 10 * np.log10(np.abs(amb))[X, Y]\n",
    "\n",
    "fig, ax = plt.subplots(subplot_kw={\"projection\": \"3d\"}, figsize=(10, 10))\n",
    "ax.plot_surface(X, Y, Z, cmap=matplotlib.cm.Spectral);"
   ]
  },
  {
   "cell_type": "markdown",
   "metadata": {},
   "source": [
    "## Range/Doppler Map\n",
    "\n",
    "Plot ambiguity as 2d image, color-coding spots of high correlation. This representation is commonly known as _Range/Doppler Map_."
   ]
  },
  {
   "cell_type": "code",
   "execution_count": null,
   "metadata": {},
   "outputs": [],
   "source": [
    "fig, ax = plt.subplots(figsize=(10, 5))\n",
    "ax.set_title(\"Range/Doppler Map\")\n",
    "ax.set_xlabel(\"bistatic range [km]\")\n",
    "ax.set_ylabel(\"bistatic velocity [m/s]\")\n",
    "xticks = np.linspace(0, 50e3, 6, endpoint=True)\n",
    "ax.set_xticks(xticks / c * Fs)\n",
    "ax.set_xticklabels(map(lambda x: f\"{x // 1e3:.0f} km\", xticks))\n",
    "\n",
    "yticks = np.linspace(-max_speed, max_speed, 15, endpoint=True)\n",
    "ax.set_yticks((yticks + max_speed) * cpi * fc / c)\n",
    "ax.set_yticklabels(map(lambda y: f\"{y:.0f} m/s\", yticks))\n",
    "plt.imshow(10 * np.log10(np.abs(amb.T)));"
   ]
  },
  {
   "cell_type": "markdown",
   "metadata": {},
   "source": [
    "## GPU Accelerated Ambiguity Function"
   ]
  },
  {
   "cell_type": "code",
   "execution_count": null,
   "metadata": {},
   "outputs": [],
   "source": [
    "ref_file_path = \"../data/pluto_a_ref.2021-07-27T15_24_17_598.sdriq\"\n",
    "surv_file_path = \"../data/pluto_b_surv.2021-07-27T15_24_21_819.sdriq\"\n",
    "\n",
    "_, hdr = pluto_sdr_pr.ioutils.read_sdriq_samples(ref_file_path, 0, 0)\n",
    "\n",
    "sample_rate = hdr[\"sample_rate\"]\n",
    "\n",
    "num_samples_in_cpi = int(sample_rate * 1)\n",
    "num_cpis = 10\n",
    "\n",
    "ref_samples, _ = pluto_sdr_pr.ioutils.read_sdriq_samples(ref_file_path, int(num_samples_in_cpi * num_cpis), 0)\n",
    "surv_samples, _ = pluto_sdr_pr.ioutils.read_sdriq_samples(surv_file_path, int(num_samples_in_cpi * num_cpis), 0)\n",
    "\n",
    "amb = pluto_sdr_pr.processing.fast_ambiguity(max_delay, 2 * max_doppler + 1, ref_samples[:num_samples_in_cpi], surv_samples[:num_samples_in_cpi])\n",
    "#amb = pluto_sdr_pr.processing.gpu_ambiguity(max_delay, 2 * max_doppler + 1, ref_samples, surv_samples, num_samples_in_cpi, batch_size=1)"
   ]
  },
  {
   "cell_type": "code",
   "execution_count": null,
   "metadata": {},
   "outputs": [],
   "source": [
    "fig, ax = plt.subplots(figsize=(10, 5))\n",
    "ax.set_title(\"Range/Doppler Map\")\n",
    "ax.set_xlabel(\"bistatic range [km]\")\n",
    "ax.set_ylabel(\"bistatic velocity [m/s]\")\n",
    "xticks = np.linspace(0, 50e3, 6, endpoint=True)\n",
    "ax.set_xticks(xticks / c * Fs)\n",
    "ax.set_xticklabels(map(lambda x: f\"{x // 1e3:.0f} km\", xticks))\n",
    "\n",
    "yticks = np.linspace(-max_speed, max_speed, 15, endpoint=True)\n",
    "ax.set_yticks((yticks + max_speed) * cpi * fc / c)\n",
    "ax.set_yticklabels(map(lambda y: f\"{y:.0f} m/s\", yticks))\n",
    "plt.imshow(10 * np.log10(np.abs(amb[:, :, 0].T)));"
   ]
  },
  {
   "cell_type": "markdown",
   "metadata": {},
   "source": [
    "## Animated Range/Doppler Map\n",
    "\n",
    "Plot ambiguity as 2d image over 10 seconds of recorded and analyzed data"
   ]
  },
  {
   "cell_type": "code",
   "execution_count": null,
   "metadata": {},
   "outputs": [],
   "source": [
    "num_frames = 100\n",
    "\n",
    "plt.ioff()\n",
    "\n",
    "fig, ax = plt.subplots(figsize=(10, 5))\n",
    "ax.set_title(\"Range/Doppler Map\")\n",
    "ax.set_xlabel(\"bistatic range [km]\")\n",
    "ax.set_ylabel(\"bistatic velocity [m/s]\")\n",
    "xticks = np.linspace(0, 50e3, 6, endpoint=True)\n",
    "ax.set_xticks(xticks / c * Fs)\n",
    "ax.set_xticklabels(map(lambda x: f\"{x / 1e3:.0f} km\", xticks))\n",
    "\n",
    "yticks = np.linspace(-max_speed, max_speed, 15, endpoint=True)\n",
    "ax.set_yticks((yticks + max_speed) * cpi * fc / c)\n",
    "ax.set_yticklabels(map(lambda y: f\"{y:.0f} m/s\", yticks))\n",
    "\n",
    "with open('../data/gqrx_20210326_161137_625000000_2880000_fc_flugplatz_longdipole.raw', 'rb') as fid:\n",
    "    def render(frame):\n",
    "        n = pluto_sdr_pr.ioutils.read_samples(fid, num_samples, frame * num_samples)\n",
    "        amb = pluto_sdr_pr.processing.fast_ambiguity(max_delay, 2 * max_doppler + 1, n, n).T\n",
    "        return (plt.imshow(10 * np.log10(np.abs(amb))),)\n",
    "\n",
    "    anim = animation.FuncAnimation(fig, render, frames=num_frames, interval=cpi * 1e3)\n",
    "    %time anim.save(\"range-doppler.mp4\")\n",
    "\n",
    "plt.ion();"
   ]
  }
 ],
 "metadata": {
  "interpreter": {
   "hash": "8395b989a354e249e3f34a0f1b84f4f35add4869040808ffd4243a4665de33f3"
  },
  "kernelspec": {
   "display_name": "Python 3.7.11 64-bit",
   "name": "python3"
  },
  "language_info": {
   "codemirror_mode": {
    "name": "ipython",
    "version": 3
   },
   "file_extension": ".py",
   "mimetype": "text/x-python",
   "name": "python",
   "nbconvert_exporter": "python",
   "pygments_lexer": "ipython3",
   "version": "3.7.11"
  },
  "metadata": {
   "interpreter": {
    "hash": "7f6ee532a2444e600c208ce0c299a19c07eb34c1eee86e0081c35da5d9c7f33b"
   }
  }
 },
 "nbformat": 4,
 "nbformat_minor": 2
}
