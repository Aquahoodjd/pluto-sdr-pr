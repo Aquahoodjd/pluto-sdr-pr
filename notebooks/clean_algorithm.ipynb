{
 "cells": [
  {
   "cell_type": "markdown",
   "metadata": {},
   "source": [
    "# CLEAN Algorithm\n",
    "\n",
    "Based on \"The CLEAN type algorithms for radar signal processing\" by [Kulpa (2008)](https://ieeexplore.ieee.org/document/4669567)."
   ]
  },
  {
   "cell_type": "code",
   "execution_count": null,
   "metadata": {},
   "outputs": [],
   "source": [
    "import numpy as np\n",
    "import matplotlib.pyplot as plt\n",
    "\n",
    "import numpy.typing\n",
    "\n",
    "import sys\n",
    "sys.path.append('../')\n",
    "import rtl_sdr_pr.ioutils\n",
    "import rtl_sdr_pr.processing"
   ]
  },
  {
   "cell_type": "code",
   "execution_count": null,
   "metadata": {},
   "outputs": [],
   "source": [
    "c = 3e8"
   ]
  },
  {
   "cell_type": "code",
   "execution_count": null,
   "metadata": {},
   "outputs": [],
   "source": [
    "def calc_plot_parameters(sampling_rate, cpi, center_freq, max_distance=50e3, max_speed=280):\n",
    "    num_samples = int(cpi * sampling_rate)\n",
    "    max_delay = int(max_distance / c * sampling_rate)\n",
    "    max_doppler = int(max_speed * cpi * center_freq / c)\n",
    "    return (num_samples, max_delay, max_distance, max_doppler, max_speed)"
   ]
  },
  {
   "cell_type": "code",
   "execution_count": null,
   "metadata": {},
   "outputs": [],
   "source": [
    "file_path = \"../data/pluto_a_626e6_5e6_stubby_flugplatz_flightradar24.2021-05-23T18_43_29_441.sdriq\"\n",
    "\n",
    "with open(file_path, 'rb') as fid:\n",
    "    _, header = rtl_sdr_pr.ioutils.read_sdriq_samples(fid, 0)\n",
    "    fid.seek(0)\n",
    "\n",
    "    cpi = 1 # in seconds\n",
    "    num_samples, max_delay, _, max_doppler, max_speed = calc_plot_parameters(header[\"sample_rate\"], cpi, header[\"center_frequency\"])\n",
    "\n",
    "    n, _ = rtl_sdr_pr.ioutils.read_sdriq_samples(fid, num_samples)\n",
    "\n",
    "    amb = rtl_sdr_pr.processing.fast_ambiguity(max_delay, max_doppler, n, n)"
   ]
  },
  {
   "cell_type": "code",
   "execution_count": null,
   "metadata": {},
   "outputs": [],
   "source": [
    "curr_amb = amb\n",
    "curr_n = n\n",
    "\n",
    "ambs = np.empty_like(amb, shape=(5,) + amb.shape)\n",
    "\n",
    "for idx in range(ambs.shape[0]):\n",
    "    ambs[idx, :, :] = curr_amb\n",
    "\n",
    "    offset = 0\n",
    "    clutter_delay, clutter_doppler = np.unravel_index(np.argmax(curr_amb[offset:, :], axis=None), curr_amb.shape)\n",
    "    clutter_delay += offset\n",
    "    clutter_doppler -= max_doppler // 2\n",
    "    clutter_range = clutter_delay * c / header[\"sample_rate\"]\n",
    "    clutter_speed = clutter_doppler * c / (cpi * header[\"center_frequency\"])\n",
    "\n",
    "    clutter_model = np.roll(np.pad(curr_n, pad_width=(0, clutter_delay)), clutter_delay)[0:curr_n.shape[0]] * np.exp(-2j * np.pi * clutter_doppler * clutter_speed)\n",
    "\n",
    "    clutter_amplitude = np.dot(n, clutter_model) / np.dot(clutter_model, clutter_model)\n",
    "    print(f\"Clutter peak at ({clutter_range} m, {clutter_speed} m/s, Energy: {clutter_amplitude:.3f})\")\n",
    "\n",
    "    curr_n = curr_n - clutter_model * clutter_amplitude\n",
    "    curr_amb = rtl_sdr_pr.processing.fast_ambiguity(max_delay, max_doppler, curr_n, curr_n)"
   ]
  },
  {
   "cell_type": "code",
   "execution_count": null,
   "metadata": {},
   "outputs": [],
   "source": [
    "fig, axs = plt.subplots(2, 1, figsize=(20, 10))\n",
    "for ax in axs:\n",
    "    ax.set_title(\"Range/Doppler Map\")\n",
    "    ax.set_xlabel(\"bistatic range [km]\")\n",
    "    ax.set_ylabel(\"bistatic velocity [m/s]\")\n",
    "    xticks = np.linspace(0, 50e3, 6, endpoint=True)\n",
    "    ax.set_xticks(xticks / c * header[\"sample_rate\"])\n",
    "    ax.set_xticklabels(map(lambda x: f\"{x / 1e3:.0f} km\", xticks))\n",
    "\n",
    "    yticks = np.linspace(-max_speed, max_speed, 15, endpoint=True)\n",
    "    ax.set_yticks((yticks + max_speed) * cpi * header[\"center_frequency\"] / c)\n",
    "    ax.set_yticklabels(map(lambda y: f\"{y:.0f} m/s\", yticks))\n",
    "\n",
    "axs[0].imshow(10 * np.log10(np.abs(amb.T)), interpolation='hanning', aspect='auto');\n",
    "axs[1].imshow(10 * np.log10(np.abs(ambs[-1].T)), interpolation='hanning', aspect='auto');"
   ]
  },
  {
   "cell_type": "code",
   "execution_count": null,
   "metadata": {},
   "outputs": [],
   "source": []
  }
 ],
 "metadata": {
  "interpreter": {
   "hash": "5d064f66fe564224dbd61a4a89ab4eb5098318cbedf7c1bb240b86c1a92eb320"
  },
  "kernelspec": {
   "display_name": "Python 3.9.5 64-bit ('rtl-sdr-pr': conda)",
   "name": "python3"
  },
  "language_info": {
   "codemirror_mode": {
    "name": "ipython",
    "version": 3
   },
   "file_extension": ".py",
   "mimetype": "text/x-python",
   "name": "python",
   "nbconvert_exporter": "python",
   "pygments_lexer": "ipython3",
   "version": "3.9.5"
  }
 },
 "nbformat": 4,
 "nbformat_minor": 2
}
