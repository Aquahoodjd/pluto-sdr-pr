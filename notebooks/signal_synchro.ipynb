{
 "cells": [
  {
   "cell_type": "code",
   "execution_count": null,
   "metadata": {},
   "outputs": [],
   "source": [
    "import numpy as np\n",
    "from scipy import signal\n",
    "import matplotlib.pyplot as plt"
   ]
  },
  {
   "cell_type": "code",
   "execution_count": null,
   "metadata": {},
   "outputs": [],
   "source": [
    "def frac_delay_fir(ntaps, u):\n",
    "    if u % 1 == 0:\n",
    "        u += np.finfo(float).eps\n",
    "    \n",
    "    N = ntaps - 1\n",
    "    n = np.linspace(-N/2, N/2, ntaps)\n",
    "    win = signal.chebwin(ntaps, 70)\n",
    "    return np.multiply(np.sinc(n - u), win.T)"
   ]
  },
  {
   "cell_type": "code",
   "execution_count": null,
   "metadata": {},
   "outputs": [],
   "source": [
    "win = np.hanning(7)/4\n",
    "x = np.convolve(win, np.ones(20))\n",
    "b_zero = np.array([0, 0, 0, 0, 0, 0, 0, 0, 0, 1, 0, 0, 0, 0, 0, 0, 0, 0, 0])\n",
    "y1 = np.convolve(b_zero, x)\n",
    "\n",
    "ntaps = 19\n",
    "b_dly = frac_delay_fir(ntaps, 0.5)\n",
    "b_adv = frac_delay_fir(ntaps, -0.5)\n",
    "y2 = np.convolve(b_dly, x)\n",
    "y3 = np.convolve(b_adv, x)\n",
    "\n",
    "plt.figure()\n",
    "plt.plot(x)\n",
    "plt.grid(True)\n",
    "\n",
    "plt.figure()\n",
    "plt.plot(y1)\n",
    "plt.grid(True)\n",
    "\n",
    "plt.figure()\n",
    "plt.plot(y1)\n",
    "plt.plot(y2)\n",
    "plt.plot(y3)\n",
    "plt.grid(True)\n",
    "\n",
    "plt.figure()\n",
    "plt.plot(b_dly)\n",
    "plt.plot(b_adv)\n",
    "plt.grid(True)"
   ]
  }
 ],
 "metadata": {
  "kernelspec": {
   "display_name": "Python 3",
   "language": "python",
   "name": "python3"
  },
  "language_info": {
   "codemirror_mode": {
    "name": "ipython",
    "version": 3
   },
   "file_extension": ".py",
   "mimetype": "text/x-python",
   "name": "python",
   "nbconvert_exporter": "python",
   "pygments_lexer": "ipython3",
   "version": "3.9.1"
  }
 },
 "nbformat": 4,
 "nbformat_minor": 2
}
