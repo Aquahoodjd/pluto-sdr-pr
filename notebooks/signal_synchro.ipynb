{
 "cells": [
  {
   "cell_type": "markdown",
   "metadata": {},
   "source": [
    "# Signal Synchronization\n"
   ]
  },
  {
   "cell_type": "code",
   "execution_count": null,
   "metadata": {},
   "outputs": [],
   "source": [
    "import warnings\n",
    "\n",
    "import numpy as np\n",
    "try:\n",
    "    import cupy as cp\n",
    "    NO_CUPY = False\n",
    "except ImportError:\n",
    "    warnings.warn(\"CuPy is not installed (needed for GPU acceleration). Falling back to CPU, which might be extremly slow!\")\n",
    "    NO_CUPY = True\n",
    "from scipy import signal\n",
    "import matplotlib.pyplot as plt\n",
    "\n",
    "from datetime import datetime\n",
    "\n",
    "import sys\n",
    "sys.path.append('../')\n",
    "import rtl_sdr_pr.ioutils\n",
    "import rtl_sdr_pr.processing"
   ]
  },
  {
   "cell_type": "markdown",
   "metadata": {},
   "source": [
    "## FIR-based sub-sample Synchronization\n"
   ]
  },
  {
   "cell_type": "code",
   "execution_count": null,
   "metadata": {},
   "outputs": [],
   "source": [
    "def frac_delay_fir(ntaps, u):\n",
    "    if u % 1 == 0:\n",
    "        u += np.finfo(float).eps\n",
    "    \n",
    "    N = ntaps - 1\n",
    "    n = np.linspace(-N/2, N/2, ntaps)\n",
    "    win = signal.chebwin(ntaps, 70)\n",
    "    return np.multiply(np.sinc(n - u), win.T)"
   ]
  },
  {
   "cell_type": "code",
   "execution_count": null,
   "metadata": {},
   "outputs": [],
   "source": [
    "win = np.hanning(7)/4\n",
    "x = np.convolve(win, np.ones(20))\n",
    "b_zero = np.array([0, 0, 0, 0, 0, 0, 0, 0, 0, 1, 0, 0, 0, 0, 0, 0, 0, 0, 0])\n",
    "y1 = np.convolve(b_zero, x)\n",
    "\n",
    "ntaps = 19\n",
    "b_dly = frac_delay_fir(ntaps, 0.5)\n",
    "b_adv = frac_delay_fir(ntaps, -0.5)\n",
    "y2 = np.convolve(b_dly, x)\n",
    "y3 = np.convolve(b_adv, x)\n",
    "\n",
    "plt.figure()\n",
    "plt.plot(x)\n",
    "plt.grid(True)\n",
    "\n",
    "plt.figure()\n",
    "plt.plot(y1)\n",
    "plt.grid(True)\n",
    "\n",
    "plt.figure()\n",
    "plt.plot(y1)\n",
    "plt.plot(y2)\n",
    "plt.plot(y3)\n",
    "plt.grid(True)\n",
    "\n",
    "plt.figure()\n",
    "plt.plot(b_dly)\n",
    "plt.plot(b_adv)\n",
    "plt.grid(True)"
   ]
  },
  {
   "cell_type": "markdown",
   "metadata": {},
   "source": [
    "## Correlation-based Synchronization\n",
    "\n",
    "Use timestamp information (if available) and cross-correlation to find sample offset in recordings. This approach assumes the receiver hardware is phase and frequency coherent (i.e. sharing a common local oscillator).\n",
    "\n",
    "First some setup-work, which includes reading file headers and determining a rough offset based on recording timestamps.\n"
   ]
  },
  {
   "cell_type": "code",
   "execution_count": null,
   "metadata": {},
   "outputs": [],
   "source": [
    "CPI = 0.2 # in seconds\n",
    "\n",
    "ref_file_path = \"../data/pluto_a_ref.2021-07-27T15_24_17_598.sdriq\"\n",
    "surv_file_path = \"../data/pluto_b_surv.2021-07-27T15_24_21_819.sdriq\"\n",
    "\n",
    "_, ref_hdr = rtl_sdr_pr.ioutils.read_sdriq_samples(ref_file_path, 0, 0)\n",
    "_, surv_hdr = rtl_sdr_pr.ioutils.read_sdriq_samples(surv_file_path, 0, 0)\n",
    "\n",
    "assert ref_hdr[\"sample_rate\"] == surv_hdr[\"sample_rate\"]\n",
    "assert ref_hdr[\"center_frequency\"] == surv_hdr[\"center_frequency\"]\n",
    "\n",
    "sample_rate = ref_hdr[\"sample_rate\"]\n",
    "center_frequency = ref_hdr['center_frequency']\n",
    "num_samples_in_cpi = CPI * sample_rate\n",
    "\n",
    "print(f\"Sample rate: {sample_rate / 1e6:0.1f} MHz, Center frequency: {center_frequency / 1e6:0.1f} MHz\")\n",
    "print(f\"Start of reference channel: {ref_hdr['start_time_stamp']} -> {datetime.fromtimestamp(ref_hdr['start_time_stamp'])}\")\n",
    "print(f\"Start of surveillance channel: {surv_hdr['start_time_stamp']} -> {datetime.fromtimestamp(surv_hdr['start_time_stamp'])}\")\n",
    "\n",
    "time_diff = surv_hdr['start_time_stamp'] - ref_hdr['start_time_stamp']\n",
    "estim_sample_shift = time_diff * sample_rate\n",
    "\n",
    "print(f\"Time delta: {time_diff} sec, Estimated sample shift: {estim_sample_shift}\")\n",
    "\n",
    "ref_samples, _ = rtl_sdr_pr.ioutils.read_sdriq_samples(ref_file_path, int(num_samples_in_cpi * 2), max(0, int(estim_sample_shift - num_samples_in_cpi)))\n",
    "surv_samples, _ = rtl_sdr_pr.ioutils.read_sdriq_samples(surv_file_path, int(num_samples_in_cpi * 2), max(0, -int(estim_sample_shift - num_samples_in_cpi)))\n",
    "\n",
    "sub_sample_factor = 1\n",
    "ref_samples = ref_samples[::sub_sample_factor]\n",
    "surv_samples = surv_samples[::sub_sample_factor]"
   ]
  },
  {
   "cell_type": "markdown",
   "metadata": {},
   "source": [
    "Now correlate and find the correlation peak.\n"
   ]
  },
  {
   "cell_type": "code",
   "execution_count": null,
   "metadata": {},
   "outputs": [],
   "source": [
    "if NO_CUPY:\n",
    "    # PLEASE INSTALL CUPY! OTHERWISE THIS IS SOOO INCREADIBLY SLOW!\n",
    "    corr = np.correlate(ref_samples, surv_samples, mode=\"same\")\n",
    "else:\n",
    "    corr = cp.correlate(cp.asarray(ref_samples), cp.asarray(surv_samples), mode=\"same\").get()\n",
    "corr_mag = np.abs(corr)\n",
    "corr_mag_db = 10 * np.log10(corr_mag / np.max(corr_mag))\n",
    "\n",
    "peak_idx = np.argmax(corr_mag)\n",
    "peak_time_offset = (peak_idx - corr_mag.size / 2) / sample_rate * sub_sample_factor\n",
    "\n",
    "print(f\"Correlation peak at {peak_idx} with time offset of {peak_time_offset * 1000:0.3f} msec after initial estimation\")"
   ]
  },
  {
   "cell_type": "code",
   "execution_count": null,
   "metadata": {},
   "outputs": [],
   "source": [
    "plt.figure(figsize=(40, 7))\n",
    "plt.plot(np.linspace(-corr_mag_db.size / 2 / sample_rate * 1000 * sub_sample_factor, corr_mag_db.size / 2 / sample_rate * 1000 * sub_sample_factor, corr_mag_db.size), corr_mag_db)\n",
    "plt.xlabel(\"time delta [msec]\")\n",
    "plt.ylabel(\"correlation [dB]\")\n",
    "plt.xticks(np.arange(-CPI * 1000, CPI * 1000 + 1, step=100, dtype=np.int32))\n",
    "plt.grid()\n",
    "\n",
    "plt.annotate(f\"Peak\\n\"\n",
    "             f\"sample offset: {peak_idx * sub_sample_factor}\\n\"\n",
    "             f\"time offset: {peak_time_offset * 1000:0.3f} msec\",\n",
    "             xy=(peak_time_offset * 1000, corr_mag_db[peak_idx]),\n",
    "             xytext=(-100, 30),\n",
    "             xycoords=\"data\",\n",
    "             textcoords=\"offset pixels\",\n",
    "             arrowprops={'arrowstyle': 'wedge'});"
   ]
  },
  {
   "cell_type": "markdown",
   "metadata": {},
   "source": [
    "## PSS Synchronization\n",
    "\n",
    "5G Broadcast communication uses two types of signals to allow a UE to synchronize with the eNodeB. The Primary Synchronization Signal (PSS) is one of three Zadoff-Chu sequences given by\n",
    "\n",
    "$$\n",
    "  d_u(n) = \\begin{cases}\n",
    "             \\mathrm{exp}\\left(-\\mathrm{j} \\frac{\\pi u n (n + 1)}{63}\\right) & n = 0, 1, \\dots, 30 \\\\\n",
    "             \\mathrm{exp}\\left(-\\mathrm{j} \\frac{\\pi u n (n + 1)(n + 2)}{63}\\right) & n = 31, 32,\\dots, 61 \\\\\n",
    "           \\end{cases}\n",
    "$$\n",
    "\n",
    "where the Zadoff-Chu root sequence index $u$ is given by the following table\n",
    "\n",
    "|Physical Layer Identity $N^{(2)}_\\mathrm{ID}$|Root Index $u$|\n",
    "|---------------------|--------------|\n",
    "|$0$|$25$|\n",
    "|$1$|$29$|\n",
    "|$2$|$34$|\n",
    "\n",
    "We start by generating the Zadoff-Chu sequences mentioned above.\n"
   ]
  },
  {
   "cell_type": "code",
   "execution_count": null,
   "metadata": {},
   "outputs": [],
   "source": [
    "n, u = np.meshgrid(np.arange(0, 62), np.array([25, 29, 34]))\n",
    "z = np.zeros_like(n, dtype=np.complex128)\n",
    "z[:, :31] = np.exp(-1j * (np.pi * u[:, :31] * n[:, :31] * (n[:, :31] + 1)) / 63)\n",
    "z[:, 31:] = np.exp(-1j * (np.pi * u[:, 31:] * (n[:, 31:] + 1) * (n[:, 31:] + 2)) / 63)"
   ]
  },
  {
   "cell_type": "markdown",
   "metadata": {},
   "source": [
    "Test the generated sequences by calculating their auto-correlation. A neat property of Zadoff-Chu sequences is that their auto-correlation is $\\approx 0$ for all non-zero lag terms.\n"
   ]
  },
  {
   "cell_type": "code",
   "execution_count": null,
   "metadata": {},
   "outputs": [],
   "source": [
    "print(f\"First 5 elements of each Zadoff-Chu sequence\\n{z[:, :5]}\")\n",
    "\n",
    "z_gpu = cp.asarray(z)\n",
    "corr_abs = cp.abs(cp.correlate(z_gpu[0, :], z_gpu[0, :], mode='full')).get()\n",
    "\n",
    "plt.figure(figsize=(15, 5))\n",
    "plt.plot(np.arange(-corr_abs.shape[0] // 2 + 1, corr_abs.shape[0] // 2 + 1), corr_abs / np.max(corr_abs))\n",
    "plt.xlabel(\"lag [symbols]\")\n",
    "plt.ylabel(\"norm. correlation\")\n",
    "plt.title(\"auto-correlation of first Zadoff-Chu sequence ($u = 25$)\")\n",
    "plt.grid()"
   ]
  },
  {
   "cell_type": "code",
   "execution_count": null,
   "metadata": {},
   "outputs": [],
   "source": [
    "freqz = cp.abs(cp.fft.fftshift(cp.fft.fft(cp.asarray(surv_samples[:4096])))).get()\n",
    "signal_bw = 5e6\n",
    "\n",
    "plt.figure(figsize=(20, 5))\n",
    "plt.plot(np.linspace((center_frequency - sample_rate / 2) * 1e-6, (center_frequency +  sample_rate / 2) * 1e-6, 4096), freqz)\n",
    "plt.title(\"Frequency Spectrum of Observation Signal\")\n",
    "plt.xlabel(\"Frequency [MHz]\")\n",
    "plt.ylabel(\"Amplitude\")\n",
    "plt.grid()\n",
    "plt.axvspan((center_frequency - signal_bw / 2) * 1e-6, (center_frequency + signal_bw / 2) * 1e-6, color=\"red\", alpha=0.2);"
   ]
  },
  {
   "cell_type": "markdown",
   "metadata": {},
   "source": [
    "### PSS Reference Subframe Generation\n",
    "\n",
    "Derive modulation parameters based on some constants.\n"
   ]
  },
  {
   "cell_type": "code",
   "execution_count": null,
   "metadata": {},
   "outputs": [],
   "source": [
    "num_dl_rb = int(0.9 * signal_bw / 180e3)\n",
    "sc_per_rb = 12\n",
    "num_dl_sc = num_dl_rb * sc_per_rb\n",
    "print(f\"Assuming {num_dl_rb:d} downlink resource-blocks given channel bandwidth of {signal_bw * 1e-6:.1f} MHz\")\n",
    "\n",
    "num_fft_bins = int(2**np.ceil(np.log2(num_dl_sc))) # find closest power of 2 fitting all sub-carriers\n",
    "first_sc_idx = num_fft_bins // 2 - num_dl_sc // 2 - 1 # offset of first sub-carrier in larger-than-necessary set of FFT-bins\n",
    "\n",
    "cyc_pref = np.tile(np.array([160, 144, 144, 144, 144, 144, 144]), 2)\n",
    "# 2x + 12*0.9x = 2048\n",
    "# x(2 + 12*0.9) = 2048\n",
    "# x = 2048 / (2 + 12*0.9) = 160\n",
    "cyc_pref = (cyc_pref / np.sum(cyc_pref) * num_fft_bins).astype(int)\n",
    "\n",
    "symbols_per_slot = 7\n",
    "slots_per_subframe = 2\n",
    "symbols_per_subframe = symbols_per_slot * slots_per_subframe\n",
    "samples_per_subframe = int(num_fft_bins * symbols_per_slot * slots_per_subframe + np.sum(cyc_pref))\n",
    "\n",
    "num_pss_rb = 5 # PSS is always located in the middle 5 RBs\n",
    "pss_symbol_idx_in_slot = 6 # assuming 0,1,...,6 symbols per slot\n",
    "pss_sc_offset_in_symbol = int(((num_dl_rb - num_pss_rb) / 2) * sc_per_rb) # sub-carrier offset within symbol #6 that points to the start of PSS"
   ]
  },
  {
   "cell_type": "markdown",
   "metadata": {},
   "source": [
    "We will now construct a reference subframe containing only the PSS sequence located in the middle 5 RBs.\n"
   ]
  },
  {
   "cell_type": "code",
   "execution_count": null,
   "metadata": {},
   "outputs": [],
   "source": [
    "grid = np.zeros((z.shape[0], num_dl_sc, symbols_per_subframe), dtype=np.complex128)\n",
    "\n",
    "grid[:, np.arange(pss_sc_offset_in_symbol, pss_sc_offset_in_symbol + z.shape[1]), pss_symbol_idx_in_slot] = z[:, :]\n",
    "\n",
    "ifft_in = np.zeros((z.shape[0], num_fft_bins, symbols_per_subframe), dtype=np.complex128)\n",
    "ifft_in[:, first_sc_idx : first_sc_idx+num_dl_sc // 2 + 1, :] = grid[:, np.arange(num_dl_sc // 2 + 1), :]\n",
    "ifft_in[:, first_sc_idx + 1 + (num_dl_sc // 2 + 1) : first_sc_idx + num_dl_sc + 1, :] = grid[:, np.arange(num_dl_sc // 2 + 1, num_dl_sc), :]\n",
    "\n",
    "ifft_out = cp.fft.ifft(cp.fft.fftshift(cp.asarray(ifft_in), axes=1), axis=1)\n",
    "\n",
    "pss_waveforms = cp.empty((z.shape[0], samples_per_subframe), dtype=np.complex128)\n",
    "\n",
    "for sym_idx in np.arange(symbols_per_subframe):\n",
    "    pss_waveforms[:, sym_idx * num_fft_bins + np.sum(cyc_pref[:sym_idx]) : sym_idx * num_fft_bins + np.sum(cyc_pref[:sym_idx + 1])] = ifft_out[:, -cyc_pref[sym_idx]:, sym_idx] # copy cyclic prefix to begining of each time-slot\n",
    "    pss_waveforms[:, sym_idx * num_fft_bins + np.sum(cyc_pref[:sym_idx + 1]) : (sym_idx + 1) * num_fft_bins + np.sum(cyc_pref[:sym_idx + 1])] = ifft_out[:, :, sym_idx] # fill rest of time-slot with OFDM symbol\n"
   ]
  },
  {
   "cell_type": "markdown",
   "metadata": {},
   "source": [
    "Our cell search works by generating a subframe containing only the PSS or SSS (first PSS then in a second run SSS). These reference subframes are then sequentially cross-correlated across the input channel data, marking the PSS/SSS (aka cell-id) combinations with the highest peaks. After going through PSS/SSS combinations, the one with the highest peak is determined the correct cell-id.\n",
    "In the block above we generated a grid of resource blocks matching the input data. The grid is filled with either a Zadoff-Chu- (PSS) or m-sequence (SSS) in frequency domain. To make the correlation, the data must be OFDM modulated into a time-domain signal. Like any practical OFDM implementation LTE uses a cyclic prefix (to alleviate issues with multi-path reception). That is, each data point is converted into an OFDM symbol by means of Inverse Fourier Transform (IFT), then a specific amount of samples from the end of each symbol (after IFT!) are copied to the front of each symbol respectively. The quantity of copied samples depends on the position of the symbol inside the slot as well as channel settings (normal or extended cyclic prefix, sub-carrier spacing, etc.). For normal cyclic prefix the sum of all CPs in a subframe is 2048 for a 20MHz channel.\n",
    "\n",
    "$$\n",
    "N_{\\text{CP}, l} = \\begin{cases}\n",
    "160 & \\mathrm{mod}(l, 7) = 0 \\\\\n",
    "144 & \\mathrm{mod}(l, 7) = 1, 2, \\dots, 6 \\\\\n",
    "\\end{cases}\n",
    "$$\n",
    "\n",
    "For smaller channels this calculation is scalled down in steps of powers of two (1024, 512, 256, ...), which ensures that  is always an integer number of samples. Like in the case of 5MHz, 25 RBs equating to 300 sub-carriers (12 SC per 1 RB) are available. The closest power of two after 300 would be 512. The 300 SCs are copied to the center IFT bins, padding the rest with zeros. This now virtually 512 SC wide symbol results in a larger required sample count per slot -> subframe -> frame and finally samples per second.\n",
    "\n",
    "Numer of samples prefixed per slot:\n",
    "$$\n",
    "N_{\\text{CP}, \\text{slot}} = 512\n",
    "$$\n",
    "Number of samples per symbol, i.e. size of FFT:\n",
    "$$\n",
    "N_{\\text{sym}} = 512\n",
    "$$\n",
    "Resulting number of samples per second:\n",
    "$$\n",
    "N = \\left( N_{\\text{CP}, \\mathrm{slot}} + \\underset{\\text{symbols per subframe}}{14} \\cdot N_{\\mathrm{sym}} \\right) \\cdot \\underset{\\text{subframes per frame}}{10} \\cdot \\underset{\\text{frames per sec}}{100} = 7.68 \\cdot 10^6\n",
    "$$\n",
    "\n",
    "Thus modulation occurs at a much higher sampling rate of 7.68MHz than necessary.\n",
    "Now the sample rate of our recording might be lower than that (because the physical channel may only be 5MHz wide), but we have to artificially widen it to match the 7.68MHz of our reference subframe. This is done here, by simply padding with zeros in frequency domain.\n"
   ]
  },
  {
   "cell_type": "code",
   "execution_count": null,
   "metadata": {},
   "outputs": [],
   "source": [
    "T_S = 1 / (15000 * 2048)\n",
    "T_FRAME = T_S * 307200\n",
    "\n",
    "subframes_per_frame = 10\n",
    "frames_per_second = 100\n",
    "gen_sample_rate = samples_per_subframe * subframes_per_frame * frames_per_second\n",
    "frame_count = 20\n",
    "\n",
    "sample_rate_diff = gen_sample_rate - sample_rate\n",
    "\n",
    "obsrv_samples = cp.asarray(surv_samples[:int(sample_rate * T_FRAME * frame_count)])\n",
    "\n",
    "obsrv_freqs = cp.fft.fftshift(cp.fft.fft(obsrv_samples))\n",
    "padded_obsrv_fftout = np.pad(obsrv_freqs, pad_width=(int(sample_rate_diff * T_FRAME * frame_count) // 2, int(sample_rate_diff * T_FRAME * frame_count) // 2))\n",
    "upsampled_obsrv_samples = cp.fft.ifft(cp.fft.fftshift(padded_obsrv_fftout))\n",
    "\n",
    "plt.figure(figsize=(20,7))\n",
    "plt.plot(np.linspace(-gen_sample_rate / 2, gen_sample_rate / 2, padded_obsrv_fftout.shape[0]) * 1e-6, cp.abs(padded_obsrv_fftout).get())\n",
    "plt.title(\"Frequency Spectrum of (padded) Observation Signal\")\n",
    "plt.xlabel(\"Frequency [MHz]\")\n",
    "plt.ylabel(\"Amplitude\")\n",
    "closest_500_khz_divisor = (gen_sample_rate / 2 - np.mod(gen_sample_rate / 2, 5e5**np.fix(np.log(gen_sample_rate / 2) / np.log(5e5)))) * 1e-6\n",
    "plt.xticks(np.hstack([np.arange(-closest_500_khz_divisor, closest_500_khz_divisor + 0.1, step=0.5), np.array([-gen_sample_rate / 2 * 1e-6, gen_sample_rate / 2 * 1e-6])]))\n",
    "plt.grid()"
   ]
  },
  {
   "cell_type": "code",
   "execution_count": null,
   "metadata": {},
   "outputs": [],
   "source": [
    "corr_mags = cp.vstack([ cp.abs(cp.correlate(upsampled_obsrv_samples, pss_waveform, mode=\"valid\")) for pss_waveform in pss_waveforms ])\n",
    "x = np.arange(corr_mags.shape[1]) * 1000 / gen_sample_rate\n",
    "\n",
    "peak_idx = cp.argmax(corr_mags, axis=1).get()\n",
    "peak_time_offset = peak_idx / gen_sample_rate\n",
    "\n",
    "print(f\"Correlation peaks at {np.array2string(peak_idx)} with time offset of {np.array2string(peak_time_offset * 1000, precision=3)} msec\")"
   ]
  },
  {
   "cell_type": "code",
   "execution_count": null,
   "metadata": {},
   "outputs": [],
   "source": [
    "for idx, corr_mag in enumerate(corr_mags[:]):\n",
    "    corr_db = 10 * np.log10(corr_mag / cp.max(corr_mag))\n",
    "    plt.figure(figsize=(35, 3))\n",
    "    plt.plot(x, corr_db.get())\n",
    "    plt.title(f\"Correlation of Generated PSS {idx} with Observation Signal\")\n",
    "    plt.xlabel(\"time delta [msec]\")\n",
    "    plt.ylabel(\"correlation [dB]\")\n",
    "    plt.xticks(np.linspace(0, T_FRAME * frame_count * 1000, frame_count * 2 + 1))\n",
    "    plt.grid()\n",
    "\n",
    "    plt.annotate(f\"Peak\\n\"\n",
    "                f\"sample offset: {peak_idx[idx]}\\n\"\n",
    "                f\"time offset: {peak_time_offset[idx] * 1000:0.3f} msec\",\n",
    "                xy=(peak_time_offset[idx] * 1000, corr_db[peak_idx[idx]]),\n",
    "                xytext=(50, 40),\n",
    "                xycoords=\"data\",\n",
    "                textcoords=\"offset pixels\",\n",
    "                arrowprops={'arrowstyle': 'wedge'});\n",
    "\n",
    "    if peak_time_offset[idx] + T_FRAME / 2 < frame_count * T_FRAME:\n",
    "        plt.axvspan((peak_time_offset[idx] + T_FRAME * 4) * 1000 - 0.75, (peak_time_offset[idx] + T_FRAME * 4) * 1000 + 0.75, color='red', alpha=0.4)\n",
    "        plt.annotate(f\"Estimated next PSS\\n\"\n",
    "                    f\"time offset: {(peak_time_offset[idx] + T_FRAME * 4) * 1000:0.3f} msec\",\n",
    "                    xy=((peak_time_offset[idx] + T_FRAME * 4) * 1000, 0),\n",
    "                    xytext=(-100, 40),\n",
    "                    xycoords=\"data\",\n",
    "                    textcoords=\"offset pixels\",\n",
    "                    arrowprops={'arrowstyle': 'wedge'});\n",
    "\n",
    "    if peak_time_offset[idx] - T_FRAME / 2 > 0:\n",
    "        plt.axvspan((peak_time_offset[idx] - T_FRAME * 4) * 1000 - 0.75, (peak_time_offset[idx] - T_FRAME * 4) * 1000 + 0.75, color='red', alpha=0.4)\n",
    "        plt.annotate(f\"Estimated previous PSS\\n\"\n",
    "                    f\"time offset: {(peak_time_offset[idx] - T_FRAME * 4) * 1000:0.3f} msec\",\n",
    "                    xy=((peak_time_offset[idx] - T_FRAME * 4) * 1000, 0),\n",
    "                    xytext=(-100, 40),\n",
    "                    xycoords=\"data\",\n",
    "                    textcoords=\"offset pixels\",\n",
    "                    arrowprops={'arrowstyle': 'wedge'});\n"
   ]
  }
 ],
 "metadata": {
  "interpreter": {
   "hash": "5d064f66fe564224dbd61a4a89ab4eb5098318cbedf7c1bb240b86c1a92eb320"
  },
  "kernelspec": {
   "display_name": "Python 3.9.5 64-bit ('rtl-sdr-pr': conda)",
   "name": "python3"
  },
  "language_info": {
   "codemirror_mode": {
    "name": "ipython",
    "version": 3
   },
   "file_extension": ".py",
   "mimetype": "text/x-python",
   "name": "python",
   "nbconvert_exporter": "python",
   "pygments_lexer": "ipython3",
   "version": "3.9.5"
  }
 },
 "nbformat": 4,
 "nbformat_minor": 2
}
